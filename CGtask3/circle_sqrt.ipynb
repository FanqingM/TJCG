{
 "metadata": {
  "language_info": {
   "codemirror_mode": {
    "name": "ipython",
    "version": 3
   },
   "file_extension": ".py",
   "mimetype": "text/x-python",
   "name": "python",
   "nbconvert_exporter": "python",
   "pygments_lexer": "ipython3",
   "version": "3.8.2"
  },
  "orig_nbformat": 2,
  "kernelspec": {
   "name": "python3",
   "display_name": "Python 3.8.2 64-bit ('base': conda)",
   "metadata": {
    "interpreter": {
     "hash": "5afca213e3fd4a905a1ee04cf013c4a2a70ed6bf52820ba3c074a5841fff5c71"
    }
   }
  }
 },
 "nbformat": 4,
 "nbformat_minor": 2,
 "cells": [
  {
   "cell_type": "code",
   "execution_count": 2,
   "metadata": {},
   "outputs": [],
   "source": [
    "# 写txt文件\n",
    "with open('data.txt','a') as f:    #设置文件对象\n",
    "    x = 1\n",
    "    y = 1\n",
    "    f.write(str(1)+','+str(y)+';')                 #将字符串写入文件中"
   ]
  },
  {
   "cell_type": "code",
   "execution_count": 10,
   "metadata": {},
   "outputs": [],
   "source": [
    "import numpy as np\n",
    "# 0,0在最左上角\n",
    "## 设一个像素点长度为1，我们画（X-250）^2 + （Y-250)^2 = 100^2\n",
    "for x in range(201):\n",
    "    posx = x + 150\n",
    "    posy = int(np.floor(np.sqrt(100**2 - (posx - 250)**2) + 250))\n",
    "    # print(posx,posy)\n",
    "    with open('circle_sqrt.txt','a') as f:\n",
    "        f.write(str(posx)+','+str(posy)+';')\n",
    "for x in range(349,150,-1):#range(5,0,-1)\n",
    "    posx = x\n",
    "    posy = int(np.floor(250 - np.sqrt(100**2 - (posx - 250)**2)))\n",
    "    # print(posx,posy)\n",
    "    with open('circle_sqrt.txt','a') as f:\n",
    "        f.write(str(posx)+','+str(posy)+';')"
   ]
  },
  {
   "cell_type": "code",
   "execution_count": null,
   "metadata": {},
   "outputs": [],
   "source": []
  }
 ]
}
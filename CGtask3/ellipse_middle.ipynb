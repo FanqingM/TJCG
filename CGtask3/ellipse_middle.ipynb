{
 "metadata": {
  "language_info": {
   "codemirror_mode": {
    "name": "ipython",
    "version": 3
   },
   "file_extension": ".py",
   "mimetype": "text/x-python",
   "name": "python",
   "nbconvert_exporter": "python",
   "pygments_lexer": "ipython3",
   "version": "3.8.2"
  },
  "orig_nbformat": 2,
  "kernelspec": {
   "name": "python3",
   "display_name": "Python 3.8.2 64-bit ('base': conda)",
   "metadata": {
    "interpreter": {
     "hash": "5afca213e3fd4a905a1ee04cf013c4a2a70ed6bf52820ba3c074a5841fff5c71"
    }
   }
  }
 },
 "nbformat": 4,
 "nbformat_minor": 2,
 "cells": [
  {
   "cell_type": "code",
   "execution_count": 1,
   "metadata": {},
   "outputs": [],
   "source": [
    "## 椭圆不同的一点在于，我们在圆中的1/8要换为以切线斜率为+-1为分割，并且一次要画1/4个椭圆，之后在对称\n",
    "### 我们画(x-250)^2/100^2 + (y-250)^2/50^2 = 1"
   ]
  },
  {
   "cell_type": "code",
   "execution_count": 5,
   "metadata": {},
   "outputs": [],
   "source": [
    "a = 100\n",
    "b = 50\n",
    "d1 = d2 = 0\n",
    "x = []\n",
    "y = []\n",
    "posx = 0\n",
    "posy = b\n",
    "d1 = b*b + a*a*(0.25 - b)\n",
    "x.append(int(posx) + 250)\n",
    "y.append(int(posy) + 250)\n",
    "while(b*b*(posx + 1) < a*a*(posy - 0.5)):\n",
    "    if(d1 < 0):\n",
    "        d1 = d1 + b*b*(2*posx + 3)\n",
    "        posx = posx + 1\n",
    "    else:\n",
    "        d1 = d1 + (b*b*(2*posx + 3) + a*a*(2 - 2*posy))\n",
    "        posx = posx + 1\n",
    "        posy = posy - 1\n",
    "    x.append(int(posx) + 250)\n",
    "    y.append(int(posy) + 250)\n",
    "\n",
    "d2 = b*b*(posx+0.5)*(posx+0.5) + a*a*(posy-1)*(posy-1)-a*a*b*b\n",
    "\n",
    "while(posy > 0):\n",
    "    if(d2 < 0):\n",
    "        d2 = d2 + b*b*(2*posx + 2) + a*a*(3-2*posy)\n",
    "        posx = posx + 1\n",
    "        posy = posy - 1\n",
    "    else:\n",
    "        d2 = d2 + a*a*(3-2*posy)\n",
    "        posy = posy - 1\n",
    "    x.append(int(posx) + 250)\n",
    "    y.append(int(posy) + 250)\n",
    "\n",
    "### 沿着x = 250轴对称，出来1/2\n",
    "length = len(x)\n",
    "for i in range(length):\n",
    "    x.append(x[i])\n",
    "    y.append(500 - y[i])\n",
    "\n",
    "### 沿着y = 250轴对称，出来1\n",
    "length = len(x)\n",
    "for i in range(length):\n",
    "    x.append(500 - x[i])\n",
    "    y.append(y[i])\n"
   ]
  },
  {
   "cell_type": "code",
   "execution_count": 6,
   "metadata": {},
   "outputs": [],
   "source": [
    "# 写文件\n",
    "for i in range(len(x)):\n",
    "    with open('ellipse_middle.txt','a') as f:\n",
    "        f.write(str(x[i])+','+str(y[i])+';')"
   ]
  },
  {
   "cell_type": "code",
   "execution_count": null,
   "metadata": {},
   "outputs": [],
   "source": []
  }
 ]
}
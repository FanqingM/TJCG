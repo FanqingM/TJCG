{
 "metadata": {
  "language_info": {
   "codemirror_mode": {
    "name": "ipython",
    "version": 3
   },
   "file_extension": ".py",
   "mimetype": "text/x-python",
   "name": "python",
   "nbconvert_exporter": "python",
   "pygments_lexer": "ipython3",
   "version": "3.8.2"
  },
  "orig_nbformat": 2,
  "kernelspec": {
   "name": "python3",
   "display_name": "Python 3.8.2 64-bit ('base': conda)",
   "metadata": {
    "interpreter": {
     "hash": "5afca213e3fd4a905a1ee04cf013c4a2a70ed6bf52820ba3c074a5841fff5c71"
    }
   }
  }
 },
 "nbformat": 4,
 "nbformat_minor": 2,
 "cells": [
  {
   "cell_type": "code",
   "execution_count": 3,
   "metadata": {},
   "outputs": [],
   "source": [
    "## 我们想象这样一个场景，即通常情况下我们所需要绘制圆的半径R是远远大于像素网格的大小的，所以对于theta的最小粒度，应当考虑的就是圆弧穿过一个网格的两个点，根据sinx = x在x很小的情况下，theta的最小粒度在弧度制的意义下应该就是R"
   ]
  },
  {
   "cell_type": "code",
   "execution_count": 13,
   "metadata": {},
   "outputs": [],
   "source": [
    "import numpy as np\n",
    "import math\n",
    "x = []\n",
    "y = []\n",
    "alpha = 0.01\n",
    "s = math.sin(alpha)\n",
    "c = math.cos(alpha)\n",
    "posx = math.sin(0)*100\n",
    "posy = math.cos(0)*100\n",
    "x.append(int(posx) + 250)\n",
    "y.append(int(posy) + 250)\n",
    "for theta in np.arange(alpha,2*math.pi,alpha):\n",
    "    temp_x = posx\n",
    "    temp_y = posy\n",
    "    posx = c*temp_x - s*temp_y\n",
    "    posy = s*temp_x + c*temp_y\n",
    "    x.append(int(posx) + 250)\n",
    "    y.append(int(posy) + 250)\n"
   ]
  },
  {
   "cell_type": "code",
   "execution_count": 14,
   "metadata": {},
   "outputs": [],
   "source": [
    "# 写文件\n",
    "for i in range(len(x)):\n",
    "    with open('circle_symbol.txt','a') as f:\n",
    "        f.write(str(x[i])+','+str(y[i])+';')"
   ]
  },
  {
   "cell_type": "code",
   "execution_count": null,
   "metadata": {},
   "outputs": [],
   "source": []
  }
 ]
}
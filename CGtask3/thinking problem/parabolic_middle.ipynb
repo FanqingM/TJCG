{
 "metadata": {
  "language_info": {
   "codemirror_mode": {
    "name": "ipython",
    "version": 3
   },
   "file_extension": ".py",
   "mimetype": "text/x-python",
   "name": "python",
   "nbconvert_exporter": "python",
   "pygments_lexer": "ipython3",
   "version": "3.8.2"
  },
  "orig_nbformat": 2,
  "kernelspec": {
   "name": "python3",
   "display_name": "Python 3.8.2 64-bit ('base': conda)",
   "metadata": {
    "interpreter": {
     "hash": "5afca213e3fd4a905a1ee04cf013c4a2a70ed6bf52820ba3c074a5841fff5c71"
    }
   }
  }
 },
 "nbformat": 4,
 "nbformat_minor": 2,
 "cells": [
  {
   "cell_type": "code",
   "execution_count": 1,
   "metadata": {},
   "outputs": [],
   "source": [
    "import math"
   ]
  },
  {
   "cell_type": "code",
   "execution_count": 2,
   "metadata": {},
   "outputs": [],
   "source": [
    "p = 100\n",
    "d1 = d2 = 0\n",
    "x = []\n",
    "y = []\n",
    "posx = p\n",
    "posy = -math.sqrt(2)*p\n",
    "d1 = (0.5 - math.sqrt(2)*p)*(0.5 - math.sqrt(2)*p) - 2*p*(p-1)\n",
    "x.append(int(posx) + 250)\n",
    "y.append(int(posy) + 250)\n",
    "while(0.5 - posy > p):\n",
    "    if(d1 < 0):\n",
    "        d1 = d1 + 2*p\n",
    "        posx = posx - 1\n",
    "    else:\n",
    "        d1 = d1 + 2*(posy + p)\n",
    "        posx = posx - 1\n",
    "        posy = posy + 1\n",
    "    x.append(int(posx) + 250)\n",
    "    y.append(int(posy) + 250)\n",
    "\n",
    "d2 = (posy + 1)*(posy + 1) - 2*p*(posx - 0.5)\n",
    "\n",
    "while(posy < 0):\n",
    "    if(d2 < 0):\n",
    "        d2 = d2 + 2*(posy + 1) + 2*p + 1\n",
    "        posx = posx - 1\n",
    "        posy = posy + 1\n",
    "    else:\n",
    "        d2 = d2 + 2*posy + 3\n",
    "        posy = posy + 1\n",
    "    x.append(int(posx) + 250)\n",
    "    y.append(int(posy) + 250)\n",
    "\n",
    "### 沿着x = 250轴对称，出来1\n",
    "length = len(x)\n",
    "for i in range(length):\n",
    "    x.append(x[i])\n",
    "    y.append(500 - y[i])\n",
    "\n",
    "\n"
   ]
  },
  {
   "cell_type": "code",
   "execution_count": 3,
   "metadata": {},
   "outputs": [],
   "source": [
    "# 写文件\n",
    "for i in range(len(x)):\n",
    "    with open('parabolic_middle.txt','a') as f:\n",
    "        f.write(str(x[i])+','+str(y[i])+';')"
   ]
  },
  {
   "cell_type": "code",
   "execution_count": null,
   "metadata": {},
   "outputs": [],
   "source": []
  }
 ]
}
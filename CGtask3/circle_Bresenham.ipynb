{
 "metadata": {
  "language_info": {
   "codemirror_mode": {
    "name": "ipython",
    "version": 3
   },
   "file_extension": ".py",
   "mimetype": "text/x-python",
   "name": "python",
   "nbconvert_exporter": "python",
   "pygments_lexer": "ipython3",
   "version": "3.8.2"
  },
  "orig_nbformat": 2,
  "kernelspec": {
   "name": "python3",
   "display_name": "Python 3.8.2 64-bit ('base': conda)",
   "metadata": {
    "interpreter": {
     "hash": "5afca213e3fd4a905a1ee04cf013c4a2a70ed6bf52820ba3c074a5841fff5c71"
    }
   }
  }
 },
 "nbformat": 4,
 "nbformat_minor": 2,
 "cells": [
  {
   "cell_type": "code",
   "execution_count": 1,
   "metadata": {},
   "outputs": [],
   "source": [
    "# 0,0在最左上角\n",
    "## 设一个像素点长度为1，我们画（X-250）^2 + （Y-250)^2 = 100^2\n",
    "### 先画1/8个圆\n",
    "x = []\n",
    "y = []\n",
    "posx = 0\n",
    "posy = 100\n",
    "d = 300 - 2*100\n",
    "x.append(posx+250)\n",
    "y.append(posy+250)\n",
    "# with open('circle_middle.txt','a') as f:\n",
    "#     f.write(str(posx)+','+str(posy)+';')\n",
    "while(posx < posy):\n",
    "    if(d < 0):\n",
    "        d = d + 4*posx + 7\n",
    "        posx = posx + 1\n",
    "        x.append(posx+250)\n",
    "        y.append(posy+250)\n",
    "    else:\n",
    "        d = d + 4*(posx - posy) + 11\n",
    "        posx = posx + 1\n",
    "        posy = posy - 1\n",
    "        x.append(posx+250)\n",
    "        y.append(posy+250)\n",
    "    # with open('circle_middle.txt','a') as f:\n",
    "    #     f.write(str(posx)+','+str(posy)+';')\n",
    "\n",
    "### 之后我们对称操作即可\n",
    "### 1/8沿y = x对称出来1/4\n",
    "length = len(x)\n",
    "for i in range(length):\n",
    "    x.append(y[i])\n",
    "    y.append(x[i])\n",
    "\n",
    "### 沿着x = 250轴对称，出来1/2\n",
    "length = len(x)\n",
    "for i in range(length):\n",
    "    x.append(x[i])\n",
    "    y.append(500 - y[i])\n",
    "\n",
    "### 沿着y = 250轴对称，出来1\n",
    "length = len(x)\n",
    "for i in range(length):\n",
    "    x.append(500 - x[i])\n",
    "    y.append(y[i])\n"
   ]
  },
  {
   "cell_type": "code",
   "execution_count": 2,
   "metadata": {},
   "outputs": [],
   "source": [
    "# 写文件\n",
    "for i in range(len(x)):\n",
    "    with open('circle_Bresenham.txt','a') as f:\n",
    "        f.write(str(x[i])+','+str(y[i])+';')"
   ]
  },
  {
   "cell_type": "code",
   "execution_count": null,
   "metadata": {},
   "outputs": [],
   "source": []
  }
 ]
}